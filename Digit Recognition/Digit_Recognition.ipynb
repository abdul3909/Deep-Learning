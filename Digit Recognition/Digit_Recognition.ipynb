{
  "nbformat": 4,
  "nbformat_minor": 0,
  "metadata": {
    "colab": {
      "name": "Digit Recognition.ipynb",
      "provenance": [],
      "collapsed_sections": [],
      "authorship_tag": "ABX9TyOErP6z1G+RVN/grWQM4yE+",
      "include_colab_link": true
    },
    "kernelspec": {
      "name": "python3",
      "display_name": "Python 3"
    },
    "language_info": {
      "name": "python"
    }
  },
  "cells": [
    {
      "cell_type": "markdown",
      "metadata": {
        "id": "view-in-github",
        "colab_type": "text"
      },
      "source": [
        "<a href=\"https://colab.research.google.com/github/abdul3909/Deep-Learning/blob/main/Digit%20Recognition/Digit_Recognition.ipynb\" target=\"_parent\"><img src=\"https://colab.research.google.com/assets/colab-badge.svg\" alt=\"Open In Colab\"/></a>"
      ]
    },
    {
      "cell_type": "code",
      "metadata": {
        "id": "InUR1gpY3t0_"
      },
      "source": [
        "import tensorflow as tf\n",
        "from tensorflow import keras\n",
        "import matplotlib.pyplot as plt\n",
        "import numpy as np"
      ],
      "execution_count": 28,
      "outputs": []
    },
    {
      "cell_type": "code",
      "metadata": {
        "id": "-Rr0fVjKu5yG"
      },
      "source": [
        "(xtrain, ytrain), (xtest, ytest) = keras.datasets.mnist.load_data()"
      ],
      "execution_count": 29,
      "outputs": []
    },
    {
      "cell_type": "code",
      "metadata": {
        "colab": {
          "base_uri": "https://localhost:8080/"
        },
        "id": "wqHMssDev-VD",
        "outputId": "37fb21aa-09cc-421d-b419-2718b540f15c"
      },
      "source": [
        "np.max(xtrain[0])"
      ],
      "execution_count": 30,
      "outputs": [
        {
          "output_type": "execute_result",
          "data": {
            "text/plain": [
              "255"
            ]
          },
          "metadata": {},
          "execution_count": 30
        }
      ]
    },
    {
      "cell_type": "code",
      "metadata": {
        "id": "hLClxxAQvfWN"
      },
      "source": [
        "xtrain = xtrain / 255\n",
        "xtest = xtest / 255"
      ],
      "execution_count": 32,
      "outputs": []
    },
    {
      "cell_type": "code",
      "metadata": {
        "colab": {
          "base_uri": "https://localhost:8080/"
        },
        "id": "qCakTy0pxoEr",
        "outputId": "db86c3ad-fd4c-4826-f426-c188bf646a5a"
      },
      "source": [
        "xtrain.shape"
      ],
      "execution_count": 33,
      "outputs": [
        {
          "output_type": "execute_result",
          "data": {
            "text/plain": [
              "(60000, 28, 28)"
            ]
          },
          "metadata": {},
          "execution_count": 33
        }
      ]
    },
    {
      "cell_type": "code",
      "metadata": {
        "id": "-gFLjezowjRp"
      },
      "source": [
        "xtrain_flat = xtrain.reshape(len(xtrain), 28*28)\n",
        "xtest_flat = xtest.reshape(len(xtest), 28*28)"
      ],
      "execution_count": 34,
      "outputs": []
    },
    {
      "cell_type": "code",
      "metadata": {
        "colab": {
          "base_uri": "https://localhost:8080/"
        },
        "id": "cSctSVWByvzU",
        "outputId": "baf62087-c735-4e15-a054-0ab133c370ad"
      },
      "source": [
        "xtrain_flat.shape"
      ],
      "execution_count": 35,
      "outputs": [
        {
          "output_type": "execute_result",
          "data": {
            "text/plain": [
              "(60000, 784)"
            ]
          },
          "metadata": {},
          "execution_count": 35
        }
      ]
    },
    {
      "cell_type": "code",
      "metadata": {
        "colab": {
          "base_uri": "https://localhost:8080/"
        },
        "id": "9_J7yNKRx7kO",
        "outputId": "035a4d46-8406-4d6a-a370-31801a33b089"
      },
      "source": [
        "xtrain_flat[0]"
      ],
      "execution_count": 36,
      "outputs": [
        {
          "output_type": "execute_result",
          "data": {
            "text/plain": [
              "array([0.00000000e+00, 0.00000000e+00, 0.00000000e+00, 0.00000000e+00,\n",
              "       0.00000000e+00, 0.00000000e+00, 0.00000000e+00, 0.00000000e+00,\n",
              "       0.00000000e+00, 0.00000000e+00, 0.00000000e+00, 0.00000000e+00,\n",
              "       0.00000000e+00, 0.00000000e+00, 0.00000000e+00, 0.00000000e+00,\n",
              "       0.00000000e+00, 0.00000000e+00, 0.00000000e+00, 0.00000000e+00,\n",
              "       0.00000000e+00, 0.00000000e+00, 0.00000000e+00, 0.00000000e+00,\n",
              "       0.00000000e+00, 0.00000000e+00, 0.00000000e+00, 0.00000000e+00,\n",
              "       0.00000000e+00, 0.00000000e+00, 0.00000000e+00, 0.00000000e+00,\n",
              "       0.00000000e+00, 0.00000000e+00, 0.00000000e+00, 0.00000000e+00,\n",
              "       0.00000000e+00, 0.00000000e+00, 0.00000000e+00, 0.00000000e+00,\n",
              "       0.00000000e+00, 0.00000000e+00, 0.00000000e+00, 0.00000000e+00,\n",
              "       0.00000000e+00, 0.00000000e+00, 0.00000000e+00, 0.00000000e+00,\n",
              "       0.00000000e+00, 0.00000000e+00, 0.00000000e+00, 0.00000000e+00,\n",
              "       0.00000000e+00, 0.00000000e+00, 0.00000000e+00, 0.00000000e+00,\n",
              "       0.00000000e+00, 0.00000000e+00, 0.00000000e+00, 0.00000000e+00,\n",
              "       0.00000000e+00, 0.00000000e+00, 0.00000000e+00, 0.00000000e+00,\n",
              "       0.00000000e+00, 0.00000000e+00, 0.00000000e+00, 0.00000000e+00,\n",
              "       0.00000000e+00, 0.00000000e+00, 0.00000000e+00, 0.00000000e+00,\n",
              "       0.00000000e+00, 0.00000000e+00, 0.00000000e+00, 0.00000000e+00,\n",
              "       0.00000000e+00, 0.00000000e+00, 0.00000000e+00, 0.00000000e+00,\n",
              "       0.00000000e+00, 0.00000000e+00, 0.00000000e+00, 0.00000000e+00,\n",
              "       0.00000000e+00, 0.00000000e+00, 0.00000000e+00, 0.00000000e+00,\n",
              "       0.00000000e+00, 0.00000000e+00, 0.00000000e+00, 0.00000000e+00,\n",
              "       0.00000000e+00, 0.00000000e+00, 0.00000000e+00, 0.00000000e+00,\n",
              "       0.00000000e+00, 0.00000000e+00, 0.00000000e+00, 0.00000000e+00,\n",
              "       0.00000000e+00, 0.00000000e+00, 0.00000000e+00, 0.00000000e+00,\n",
              "       0.00000000e+00, 0.00000000e+00, 0.00000000e+00, 0.00000000e+00,\n",
              "       0.00000000e+00, 0.00000000e+00, 0.00000000e+00, 0.00000000e+00,\n",
              "       0.00000000e+00, 0.00000000e+00, 0.00000000e+00, 0.00000000e+00,\n",
              "       0.00000000e+00, 0.00000000e+00, 0.00000000e+00, 0.00000000e+00,\n",
              "       0.00000000e+00, 0.00000000e+00, 0.00000000e+00, 0.00000000e+00,\n",
              "       0.00000000e+00, 0.00000000e+00, 0.00000000e+00, 0.00000000e+00,\n",
              "       0.00000000e+00, 0.00000000e+00, 0.00000000e+00, 0.00000000e+00,\n",
              "       0.00000000e+00, 0.00000000e+00, 0.00000000e+00, 0.00000000e+00,\n",
              "       0.00000000e+00, 0.00000000e+00, 0.00000000e+00, 0.00000000e+00,\n",
              "       0.00000000e+00, 0.00000000e+00, 0.00000000e+00, 0.00000000e+00,\n",
              "       0.00000000e+00, 0.00000000e+00, 0.00000000e+00, 0.00000000e+00,\n",
              "       0.00000000e+00, 0.00000000e+00, 0.00000000e+00, 0.00000000e+00,\n",
              "       4.61361015e-05, 2.76816609e-04, 2.76816609e-04, 2.76816609e-04,\n",
              "       1.93771626e-03, 2.09150327e-03, 2.69127259e-03, 3.99846213e-04,\n",
              "       2.55286428e-03, 3.92156863e-03, 3.79853902e-03, 1.95309496e-03,\n",
              "       0.00000000e+00, 0.00000000e+00, 0.00000000e+00, 0.00000000e+00,\n",
              "       0.00000000e+00, 0.00000000e+00, 0.00000000e+00, 0.00000000e+00,\n",
              "       0.00000000e+00, 0.00000000e+00, 0.00000000e+00, 0.00000000e+00,\n",
              "       4.61361015e-04, 5.53633218e-04, 1.44559785e-03, 2.36831988e-03,\n",
              "       2.61437908e-03, 3.89081123e-03, 3.89081123e-03, 3.89081123e-03,\n",
              "       3.89081123e-03, 3.89081123e-03, 3.46020761e-03, 2.64513649e-03,\n",
              "       3.89081123e-03, 3.72164552e-03, 2.99884660e-03, 9.84236832e-04,\n",
              "       0.00000000e+00, 0.00000000e+00, 0.00000000e+00, 0.00000000e+00,\n",
              "       0.00000000e+00, 0.00000000e+00, 0.00000000e+00, 0.00000000e+00,\n",
              "       0.00000000e+00, 0.00000000e+00, 0.00000000e+00, 7.53556324e-04,\n",
              "       3.66013072e-03, 3.89081123e-03, 3.89081123e-03, 3.89081123e-03,\n",
              "       3.89081123e-03, 3.89081123e-03, 3.89081123e-03, 3.89081123e-03,\n",
              "       3.89081123e-03, 3.86005383e-03, 1.43021915e-03, 1.26105344e-03,\n",
              "       1.26105344e-03, 8.61207228e-04, 5.99769319e-04, 0.00000000e+00,\n",
              "       0.00000000e+00, 0.00000000e+00, 0.00000000e+00, 0.00000000e+00,\n",
              "       0.00000000e+00, 0.00000000e+00, 0.00000000e+00, 0.00000000e+00,\n",
              "       0.00000000e+00, 0.00000000e+00, 0.00000000e+00, 2.76816609e-04,\n",
              "       3.36793541e-03, 3.89081123e-03, 3.89081123e-03, 3.89081123e-03,\n",
              "       3.89081123e-03, 3.89081123e-03, 3.04498270e-03, 2.79892349e-03,\n",
              "       3.79853902e-03, 3.70626682e-03, 0.00000000e+00, 0.00000000e+00,\n",
              "       0.00000000e+00, 0.00000000e+00, 0.00000000e+00, 0.00000000e+00,\n",
              "       0.00000000e+00, 0.00000000e+00, 0.00000000e+00, 0.00000000e+00,\n",
              "       0.00000000e+00, 0.00000000e+00, 0.00000000e+00, 0.00000000e+00,\n",
              "       0.00000000e+00, 0.00000000e+00, 0.00000000e+00, 0.00000000e+00,\n",
              "       1.23029604e-03, 2.39907728e-03, 1.64552095e-03, 3.89081123e-03,\n",
              "       3.89081123e-03, 3.15263360e-03, 1.69165705e-04, 0.00000000e+00,\n",
              "       6.61284121e-04, 2.36831988e-03, 0.00000000e+00, 0.00000000e+00,\n",
              "       0.00000000e+00, 0.00000000e+00, 0.00000000e+00, 0.00000000e+00,\n",
              "       0.00000000e+00, 0.00000000e+00, 0.00000000e+00, 0.00000000e+00,\n",
              "       0.00000000e+00, 0.00000000e+00, 0.00000000e+00, 0.00000000e+00,\n",
              "       0.00000000e+00, 0.00000000e+00, 0.00000000e+00, 0.00000000e+00,\n",
              "       0.00000000e+00, 2.15301807e-04, 1.53787005e-05, 2.36831988e-03,\n",
              "       3.89081123e-03, 1.38408304e-03, 0.00000000e+00, 0.00000000e+00,\n",
              "       0.00000000e+00, 0.00000000e+00, 0.00000000e+00, 0.00000000e+00,\n",
              "       0.00000000e+00, 0.00000000e+00, 0.00000000e+00, 0.00000000e+00,\n",
              "       0.00000000e+00, 0.00000000e+00, 0.00000000e+00, 0.00000000e+00,\n",
              "       0.00000000e+00, 0.00000000e+00, 0.00000000e+00, 0.00000000e+00,\n",
              "       0.00000000e+00, 0.00000000e+00, 0.00000000e+00, 0.00000000e+00,\n",
              "       0.00000000e+00, 0.00000000e+00, 0.00000000e+00, 2.13763937e-03,\n",
              "       3.89081123e-03, 2.92195309e-03, 3.07574010e-05, 0.00000000e+00,\n",
              "       0.00000000e+00, 0.00000000e+00, 0.00000000e+00, 0.00000000e+00,\n",
              "       0.00000000e+00, 0.00000000e+00, 0.00000000e+00, 0.00000000e+00,\n",
              "       0.00000000e+00, 0.00000000e+00, 0.00000000e+00, 0.00000000e+00,\n",
              "       0.00000000e+00, 0.00000000e+00, 0.00000000e+00, 0.00000000e+00,\n",
              "       0.00000000e+00, 0.00000000e+00, 0.00000000e+00, 0.00000000e+00,\n",
              "       0.00000000e+00, 0.00000000e+00, 0.00000000e+00, 1.69165705e-04,\n",
              "       2.92195309e-03, 3.89081123e-03, 1.07650903e-03, 0.00000000e+00,\n",
              "       0.00000000e+00, 0.00000000e+00, 0.00000000e+00, 0.00000000e+00,\n",
              "       0.00000000e+00, 0.00000000e+00, 0.00000000e+00, 0.00000000e+00,\n",
              "       0.00000000e+00, 0.00000000e+00, 0.00000000e+00, 0.00000000e+00,\n",
              "       0.00000000e+00, 0.00000000e+00, 0.00000000e+00, 0.00000000e+00,\n",
              "       0.00000000e+00, 0.00000000e+00, 0.00000000e+00, 0.00000000e+00,\n",
              "       0.00000000e+00, 0.00000000e+00, 0.00000000e+00, 0.00000000e+00,\n",
              "       5.38254517e-04, 3.70626682e-03, 3.46020761e-03, 2.46059208e-03,\n",
              "       1.66089965e-03, 1.53787005e-05, 0.00000000e+00, 0.00000000e+00,\n",
              "       0.00000000e+00, 0.00000000e+00, 0.00000000e+00, 0.00000000e+00,\n",
              "       0.00000000e+00, 0.00000000e+00, 0.00000000e+00, 0.00000000e+00,\n",
              "       0.00000000e+00, 0.00000000e+00, 0.00000000e+00, 0.00000000e+00,\n",
              "       0.00000000e+00, 0.00000000e+00, 0.00000000e+00, 0.00000000e+00,\n",
              "       0.00000000e+00, 0.00000000e+00, 0.00000000e+00, 0.00000000e+00,\n",
              "       0.00000000e+00, 1.24567474e-03, 3.69088812e-03, 3.89081123e-03,\n",
              "       3.89081123e-03, 1.83006536e-03, 3.84467512e-04, 0.00000000e+00,\n",
              "       0.00000000e+00, 0.00000000e+00, 0.00000000e+00, 0.00000000e+00,\n",
              "       0.00000000e+00, 0.00000000e+00, 0.00000000e+00, 0.00000000e+00,\n",
              "       0.00000000e+00, 0.00000000e+00, 0.00000000e+00, 0.00000000e+00,\n",
              "       0.00000000e+00, 0.00000000e+00, 0.00000000e+00, 0.00000000e+00,\n",
              "       0.00000000e+00, 0.00000000e+00, 0.00000000e+00, 0.00000000e+00,\n",
              "       0.00000000e+00, 0.00000000e+00, 6.92041522e-04, 2.86043829e-03,\n",
              "       3.89081123e-03, 3.89081123e-03, 2.30680507e-03, 4.15224913e-04,\n",
              "       0.00000000e+00, 0.00000000e+00, 0.00000000e+00, 0.00000000e+00,\n",
              "       0.00000000e+00, 0.00000000e+00, 0.00000000e+00, 0.00000000e+00,\n",
              "       0.00000000e+00, 0.00000000e+00, 0.00000000e+00, 0.00000000e+00,\n",
              "       0.00000000e+00, 0.00000000e+00, 0.00000000e+00, 0.00000000e+00,\n",
              "       0.00000000e+00, 0.00000000e+00, 0.00000000e+00, 0.00000000e+00,\n",
              "       0.00000000e+00, 0.00000000e+00, 0.00000000e+00, 2.46059208e-04,\n",
              "       1.43021915e-03, 3.87543253e-03, 3.89081123e-03, 2.87581699e-03,\n",
              "       0.00000000e+00, 0.00000000e+00, 0.00000000e+00, 0.00000000e+00,\n",
              "       0.00000000e+00, 0.00000000e+00, 0.00000000e+00, 0.00000000e+00,\n",
              "       0.00000000e+00, 0.00000000e+00, 0.00000000e+00, 0.00000000e+00,\n",
              "       0.00000000e+00, 0.00000000e+00, 0.00000000e+00, 0.00000000e+00,\n",
              "       0.00000000e+00, 0.00000000e+00, 0.00000000e+00, 0.00000000e+00,\n",
              "       0.00000000e+00, 0.00000000e+00, 0.00000000e+00, 0.00000000e+00,\n",
              "       0.00000000e+00, 3.82929642e-03, 3.89081123e-03, 3.82929642e-03,\n",
              "       9.84236832e-04, 0.00000000e+00, 0.00000000e+00, 0.00000000e+00,\n",
              "       0.00000000e+00, 0.00000000e+00, 0.00000000e+00, 0.00000000e+00,\n",
              "       0.00000000e+00, 0.00000000e+00, 0.00000000e+00, 0.00000000e+00,\n",
              "       0.00000000e+00, 0.00000000e+00, 0.00000000e+00, 0.00000000e+00,\n",
              "       0.00000000e+00, 0.00000000e+00, 0.00000000e+00, 0.00000000e+00,\n",
              "       0.00000000e+00, 0.00000000e+00, 7.07420223e-04, 1.99923106e-03,\n",
              "       2.81430219e-03, 3.89081123e-03, 3.89081123e-03, 3.18339100e-03,\n",
              "       3.07574010e-05, 0.00000000e+00, 0.00000000e+00, 0.00000000e+00,\n",
              "       0.00000000e+00, 0.00000000e+00, 0.00000000e+00, 0.00000000e+00,\n",
              "       0.00000000e+00, 0.00000000e+00, 0.00000000e+00, 0.00000000e+00,\n",
              "       0.00000000e+00, 0.00000000e+00, 0.00000000e+00, 0.00000000e+00,\n",
              "       0.00000000e+00, 0.00000000e+00, 0.00000000e+00, 0.00000000e+00,\n",
              "       5.99769319e-04, 2.27604767e-03, 3.52172241e-03, 3.89081123e-03,\n",
              "       3.89081123e-03, 3.89081123e-03, 3.84467512e-03, 2.79892349e-03,\n",
              "       0.00000000e+00, 0.00000000e+00, 0.00000000e+00, 0.00000000e+00,\n",
              "       0.00000000e+00, 0.00000000e+00, 0.00000000e+00, 0.00000000e+00,\n",
              "       0.00000000e+00, 0.00000000e+00, 0.00000000e+00, 0.00000000e+00,\n",
              "       0.00000000e+00, 0.00000000e+00, 0.00000000e+00, 0.00000000e+00,\n",
              "       0.00000000e+00, 0.00000000e+00, 3.69088812e-04, 1.75317186e-03,\n",
              "       3.39869281e-03, 3.89081123e-03, 3.89081123e-03, 3.89081123e-03,\n",
              "       3.89081123e-03, 3.09111880e-03, 1.19953864e-03, 0.00000000e+00,\n",
              "       0.00000000e+00, 0.00000000e+00, 0.00000000e+00, 0.00000000e+00,\n",
              "       0.00000000e+00, 0.00000000e+00, 0.00000000e+00, 0.00000000e+00,\n",
              "       0.00000000e+00, 0.00000000e+00, 0.00000000e+00, 0.00000000e+00,\n",
              "       0.00000000e+00, 0.00000000e+00, 0.00000000e+00, 0.00000000e+00,\n",
              "       3.53710111e-04, 1.01499423e-03, 3.27566321e-03, 3.89081123e-03,\n",
              "       3.89081123e-03, 3.89081123e-03, 3.89081123e-03, 3.04498270e-03,\n",
              "       1.24567474e-03, 3.07574010e-05, 0.00000000e+00, 0.00000000e+00,\n",
              "       0.00000000e+00, 0.00000000e+00, 0.00000000e+00, 0.00000000e+00,\n",
              "       0.00000000e+00, 0.00000000e+00, 0.00000000e+00, 0.00000000e+00,\n",
              "       0.00000000e+00, 0.00000000e+00, 0.00000000e+00, 0.00000000e+00,\n",
              "       0.00000000e+00, 0.00000000e+00, 2.76816609e-04, 2.62975779e-03,\n",
              "       3.36793541e-03, 3.89081123e-03, 3.89081123e-03, 3.89081123e-03,\n",
              "       3.89081123e-03, 2.99884660e-03, 1.23029604e-03, 1.38408304e-04,\n",
              "       0.00000000e+00, 0.00000000e+00, 0.00000000e+00, 0.00000000e+00,\n",
              "       0.00000000e+00, 0.00000000e+00, 0.00000000e+00, 0.00000000e+00,\n",
              "       0.00000000e+00, 0.00000000e+00, 0.00000000e+00, 0.00000000e+00,\n",
              "       0.00000000e+00, 0.00000000e+00, 0.00000000e+00, 0.00000000e+00,\n",
              "       8.45828527e-04, 2.64513649e-03, 3.47558631e-03, 3.89081123e-03,\n",
              "       3.89081123e-03, 3.89081123e-03, 3.89081123e-03, 3.75240292e-03,\n",
              "       2.04536717e-03, 1.69165705e-04, 0.00000000e+00, 0.00000000e+00,\n",
              "       0.00000000e+00, 0.00000000e+00, 0.00000000e+00, 0.00000000e+00,\n",
              "       0.00000000e+00, 0.00000000e+00, 0.00000000e+00, 0.00000000e+00,\n",
              "       0.00000000e+00, 0.00000000e+00, 0.00000000e+00, 0.00000000e+00,\n",
              "       0.00000000e+00, 0.00000000e+00, 0.00000000e+00, 0.00000000e+00,\n",
              "       2.09150327e-03, 3.89081123e-03, 3.89081123e-03, 3.89081123e-03,\n",
              "       3.26028451e-03, 2.07612457e-03, 2.02998847e-03, 2.46059208e-04,\n",
              "       0.00000000e+00, 0.00000000e+00, 0.00000000e+00, 0.00000000e+00,\n",
              "       0.00000000e+00, 0.00000000e+00, 0.00000000e+00, 0.00000000e+00,\n",
              "       0.00000000e+00, 0.00000000e+00, 0.00000000e+00, 0.00000000e+00,\n",
              "       0.00000000e+00, 0.00000000e+00, 0.00000000e+00, 0.00000000e+00,\n",
              "       0.00000000e+00, 0.00000000e+00, 0.00000000e+00, 0.00000000e+00,\n",
              "       0.00000000e+00, 0.00000000e+00, 0.00000000e+00, 0.00000000e+00,\n",
              "       0.00000000e+00, 0.00000000e+00, 0.00000000e+00, 0.00000000e+00,\n",
              "       0.00000000e+00, 0.00000000e+00, 0.00000000e+00, 0.00000000e+00,\n",
              "       0.00000000e+00, 0.00000000e+00, 0.00000000e+00, 0.00000000e+00,\n",
              "       0.00000000e+00, 0.00000000e+00, 0.00000000e+00, 0.00000000e+00,\n",
              "       0.00000000e+00, 0.00000000e+00, 0.00000000e+00, 0.00000000e+00,\n",
              "       0.00000000e+00, 0.00000000e+00, 0.00000000e+00, 0.00000000e+00,\n",
              "       0.00000000e+00, 0.00000000e+00, 0.00000000e+00, 0.00000000e+00,\n",
              "       0.00000000e+00, 0.00000000e+00, 0.00000000e+00, 0.00000000e+00,\n",
              "       0.00000000e+00, 0.00000000e+00, 0.00000000e+00, 0.00000000e+00,\n",
              "       0.00000000e+00, 0.00000000e+00, 0.00000000e+00, 0.00000000e+00,\n",
              "       0.00000000e+00, 0.00000000e+00, 0.00000000e+00, 0.00000000e+00,\n",
              "       0.00000000e+00, 0.00000000e+00, 0.00000000e+00, 0.00000000e+00,\n",
              "       0.00000000e+00, 0.00000000e+00, 0.00000000e+00, 0.00000000e+00,\n",
              "       0.00000000e+00, 0.00000000e+00, 0.00000000e+00, 0.00000000e+00,\n",
              "       0.00000000e+00, 0.00000000e+00, 0.00000000e+00, 0.00000000e+00,\n",
              "       0.00000000e+00, 0.00000000e+00, 0.00000000e+00, 0.00000000e+00,\n",
              "       0.00000000e+00, 0.00000000e+00, 0.00000000e+00, 0.00000000e+00,\n",
              "       0.00000000e+00, 0.00000000e+00, 0.00000000e+00, 0.00000000e+00,\n",
              "       0.00000000e+00, 0.00000000e+00, 0.00000000e+00, 0.00000000e+00])"
            ]
          },
          "metadata": {},
          "execution_count": 36
        }
      ]
    },
    {
      "cell_type": "code",
      "metadata": {
        "id": "5fg6hH9Pylqk",
        "colab": {
          "base_uri": "https://localhost:8080/",
          "height": 292
        },
        "outputId": "dfe88ab9-47fc-4c4e-c52c-44682eb6ef82"
      },
      "source": [
        "plt.matshow(xtrain[0])"
      ],
      "execution_count": 20,
      "outputs": [
        {
          "output_type": "execute_result",
          "data": {
            "text/plain": [
              "<matplotlib.image.AxesImage at 0x7fb1fd123f10>"
            ]
          },
          "metadata": {},
          "execution_count": 20
        },
        {
          "output_type": "display_data",
          "data": {
            "image/png": "[encoded data removed]",
            "text/plain": [
              "<Figure size 288x288 with 1 Axes>"
            ]
          },
          "metadata": {
            "needs_background": "light"
          }
        }
      ]
    },
    {
      "cell_type": "code",
      "metadata": {
        "id": "CR4Qbd9K-_1h"
      },
      "source": [
        "model = keras.Sequential([\n",
        "    keras.layers.Dense(10, input_shape=(784,), activation='sigmoid')\n",
        "])\n",
        "\n",
        "model.compile(\n",
        "    optimizer='adam',\n",
        "    loss = 'sparse_categorical_crossentropy',\n",
        "    metrics=['accuracy']\n",
        ")\n",
        "model.fit(xtrain_flat, ytrain, epochs=30)"
      ],
      "execution_count": null,
      "outputs": []
    },
    {
      "cell_type": "code",
      "metadata": {
        "colab": {
          "base_uri": "https://localhost:8080/"
        },
        "id": "Xx2VC7RlDisO",
        "outputId": "5c9dcbf1-32b0-4aa4-a02e-ee9857a5c6b2"
      },
      "source": [
        "model.evaluate(xtest_flat, ytest)"
      ],
      "execution_count": 41,
      "outputs": [
        {
          "output_type": "stream",
          "name": "stdout",
          "text": [
            "313/313 [==============================] - 0s 706us/step - loss: 0.5058 - accuracy: 0.8846\n"
          ]
        },
        {
          "output_type": "execute_result",
          "data": {
            "text/plain": [
              "[0.5058358311653137, 0.8845999836921692]"
            ]
          },
          "metadata": {},
          "execution_count": 41
        }
      ]
    },
    {
      "cell_type": "code",
      "metadata": {
        "colab": {
          "base_uri": "https://localhost:8080/"
        },
        "id": "gH--OjFnG7g2",
        "outputId": "5a436e93-2176-4bd0-a9a8-37cf91d3ee48"
      },
      "source": [
        "y_predicted = model.predict(xtest_flat)\n",
        "y_predicted[0]"
      ],
      "execution_count": 43,
      "outputs": [
        {
          "output_type": "execute_result",
          "data": {
            "text/plain": [
              "array([0.12973222, 0.02914792, 0.13375679, 0.39088535, 0.28753018,\n",
              "       0.24283728, 0.01784915, 0.99030983, 0.13624626, 0.72398794],\n",
              "      dtype=float32)"
            ]
          },
          "metadata": {},
          "execution_count": 43
        }
      ]
    },
    {
      "cell_type": "code",
      "metadata": {
        "colab": {
          "base_uri": "https://localhost:8080/"
        },
        "id": "o4ULS18xH3G0",
        "outputId": "7f2dbf00-9b0c-4c8c-c980-7631a9228f1c"
      },
      "source": [
        "np.argmax(y_predicted[0])"
      ],
      "execution_count": 45,
      "outputs": [
        {
          "output_type": "execute_result",
          "data": {
            "text/plain": [
              "7"
            ]
          },
          "metadata": {},
          "execution_count": 45
        }
      ]
    },
    {
      "cell_type": "code",
      "metadata": {
        "colab": {
          "base_uri": "https://localhost:8080/",
          "height": 292
        },
        "id": "P8wX1K-WIBZK",
        "outputId": "5a5e3dbd-b428-42ee-fef8-7ba59fedbd2f"
      },
      "source": [
        "plt.matshow(xtest[0])"
      ],
      "execution_count": 46,
      "outputs": [
        {
          "output_type": "execute_result",
          "data": {
            "text/plain": [
              "<matplotlib.image.AxesImage at 0x7fb1fe378210>"
            ]
          },
          "metadata": {},
          "execution_count": 46
        },
        {
          "output_type": "display_data",
          "data": {
            "image/png": "[encoded data removed]",
            "text/plain": [
              "<Figure size 288x288 with 1 Axes>"
            ]
          },
          "metadata": {
            "needs_background": "light"
          }
        }
      ]
    },
    {
      "cell_type": "code",
      "metadata": {
        "colab": {
          "base_uri": "https://localhost:8080/"
        },
        "id": "j4CFV6nIIQfq",
        "outputId": "51e32dd8-1a7f-499c-9e38-f9782329d548"
      },
      "source": [
        "y_predicted_labels = [np.argmax(i) for i in y_predicted]\n",
        "y_predicted_labels[:10]"
      ],
      "execution_count": 47,
      "outputs": [
        {
          "output_type": "execute_result",
          "data": {
            "text/plain": [
              "[7, 2, 1, 0, 4, 1, 4, 9, 4, 9]"
            ]
          },
          "metadata": {},
          "execution_count": 47
        }
      ]
    },
    {
      "cell_type": "code",
      "metadata": {
        "colab": {
          "base_uri": "https://localhost:8080/"
        },
        "id": "T4JiukauNa5X",
        "outputId": "95267ca1-94ed-4c3e-fd77-5480b61e7214"
      },
      "source": [
        "cm = tf.math.confusion_matrix(labels=ytest, predictions=y_predicted_labels)\n",
        "cm"
      ],
      "execution_count": 48,
      "outputs": [
        {
          "output_type": "execute_result",
          "data": {
            "text/plain": [
              "<tf.Tensor: shape=(10, 10), dtype=int32, numpy=\n",
              "array([[ 952,    0,    2,    2,    0,    7,   12,    1,    4,    0],\n",
              "       [   0, 1096,    5,    3,    0,    4,    5,    0,   22,    0],\n",
              "       [  15,   18,  860,   24,   16,    2,   24,   23,   44,    6],\n",
              "       [   5,   10,   21,  885,    1,   29,    7,   19,   23,   10],\n",
              "       [   2,    9,    3,    0,  879,    2,   16,    2,    8,   61],\n",
              "       [  14,   19,    4,   64,   24,  694,   19,   13,   26,   15],\n",
              "       [  15,    9,   13,    1,   14,   22,  881,    0,    3,    0],\n",
              "       [   1,   31,   21,    4,   13,    0,    1,  911,    5,   41],\n",
              "       [  10,   23,   13,   35,   14,   25,   11,   13,  811,   19],\n",
              "       [  15,   11,    8,   11,   44,    7,    0,   28,    8,  877]],\n",
              "      dtype=int32)>"
            ]
          },
          "metadata": {},
          "execution_count": 48
        }
      ]
    },
    {
      "cell_type": "code",
      "metadata": {
        "colab": {
          "base_uri": "https://localhost:8080/",
          "height": 445
        },
        "id": "uTu9id6aPOoL",
        "outputId": "4bb70bd9-1bdb-4ea9-c847-5c1adbe4748e"
      },
      "source": [
        "import seaborn as sns\n",
        "plt.figure(figsize=(10,7))\n",
        "sns.heatmap(cm, annot=True, fmt='d')"
      ],
      "execution_count": 53,
      "outputs": [
        {
          "output_type": "execute_result",
          "data": {
            "text/plain": [
              "<matplotlib.axes._subplots.AxesSubplot at 0x7fb1e69ef3d0>"
            ]
          },
          "metadata": {},
          "execution_count": 53
        },
        {
          "output_type": "display_data",
          "data": {
            "image/png": "[encoded data removed]",
            "text/plain": [
              "<Figure size 720x504 with 2 Axes>"
            ]
          },
          "metadata": {
            "needs_background": "light"
          }
        }
      ]
    },
    {
      "cell_type": "code",
      "metadata": {
        "id": "0QI91lrQPXMb"
      },
      "source": [
        "model = keras.Sequential([\n",
        "    keras.layers.Dense(100, input_shape=(784,), activation='relu'),\n",
        "    keras.layers.Dense(10, activation='sigmoid')\n",
        "])\n",
        "\n",
        "model.compile(\n",
        "    optimizer='adam',\n",
        "    loss = 'sparse_categorical_crossentropy',\n",
        "    metrics=['accuracy']\n",
        ")\n",
        "model.fit(xtrain_flat, ytrain, epochs=30)"
      ],
      "execution_count": null,
      "outputs": []
    },
    {
      "cell_type": "code",
      "metadata": {
        "colab": {
          "base_uri": "https://localhost:8080/"
        },
        "id": "D3-8AgRlTaNq",
        "outputId": "6b815063-1d34-41c3-f07d-bd48d6efbd78"
      },
      "source": [
        "model.evaluate(xtest_flat, ytest)"
      ],
      "execution_count": 56,
      "outputs": [
        {
          "output_type": "stream",
          "name": "stdout",
          "text": [
            "313/313 [==============================] - 0s 868us/step - loss: 0.1593 - accuracy: 0.9548\n"
          ]
        },
        {
          "output_type": "execute_result",
          "data": {
            "text/plain": [
              "[0.15933693945407867, 0.954800009727478]"
            ]
          },
          "metadata": {},
          "execution_count": 56
        }
      ]
    },
    {
      "cell_type": "code",
      "metadata": {
        "colab": {
          "base_uri": "https://localhost:8080/"
        },
        "id": "fGLmGBhEVFsW",
        "outputId": "64be0970-c9c2-4a00-e54d-c2485b78361a"
      },
      "source": [
        "model = keras.Sequential([\n",
        "    keras.layers.Flatten(input_shape=(28,28)),\n",
        "    keras.layers.Dense(100, activation='relu'),\n",
        "    keras.layers.Dense(10, activation='sigmoid')\n",
        "])\n",
        "model.compile(\n",
        "    optimizer='adam',\n",
        "    loss='sparse_categorical_crossentropy',\n",
        "    metrics=['accuracy']\n",
        ")\n",
        "model.fit(xtrain, ytrain, epochs=30)"
      ],
      "execution_count": 60,
      "outputs": [
        {
          "output_type": "stream",
          "name": "stdout",
          "text": [
            "Epoch 1/30\n",
            "1875/1875 [==============================] - 3s 1ms/step - loss: 1.2339 - accuracy: 0.7136\n",
            "Epoch 2/30\n",
            "1875/1875 [==============================] - 2s 1ms/step - loss: 0.5188 - accuracy: 0.8674\n",
            "Epoch 3/30\n",
            "1875/1875 [==============================] - 3s 1ms/step - loss: 0.4007 - accuracy: 0.8906\n",
            "Epoch 4/30\n",
            "1875/1875 [==============================] - 2s 1ms/step - loss: 0.3551 - accuracy: 0.9012\n",
            "Epoch 5/30\n",
            "1875/1875 [==============================] - 3s 1ms/step - loss: 0.3296 - accuracy: 0.9062\n",
            "Epoch 6/30\n",
            "1875/1875 [==============================] - 2s 1ms/step - loss: 0.3121 - accuracy: 0.9105\n",
            "Epoch 7/30\n",
            "1875/1875 [==============================] - 2s 1ms/step - loss: 0.2993 - accuracy: 0.9144\n",
            "Epoch 8/30\n",
            "1875/1875 [==============================] - 2s 1ms/step - loss: 0.2889 - accuracy: 0.9168\n",
            "Epoch 9/30\n",
            "1875/1875 [==============================] - 2s 1ms/step - loss: 0.2794 - accuracy: 0.9192\n",
            "Epoch 10/30\n",
            "1875/1875 [==============================] - 2s 1ms/step - loss: 0.2708 - accuracy: 0.9221\n",
            "Epoch 11/30\n",
            "1875/1875 [==============================] - 3s 1ms/step - loss: 0.2631 - accuracy: 0.9240\n",
            "Epoch 12/30\n",
            "1875/1875 [==============================] - 2s 1ms/step - loss: 0.2557 - accuracy: 0.9258\n",
            "Epoch 13/30\n",
            "1875/1875 [==============================] - 2s 1ms/step - loss: 0.2485 - accuracy: 0.9288\n",
            "Epoch 14/30\n",
            "1875/1875 [==============================] - 2s 1ms/step - loss: 0.2414 - accuracy: 0.9302\n",
            "Epoch 15/30\n",
            "1875/1875 [==============================] - 2s 1ms/step - loss: 0.2347 - accuracy: 0.9321\n",
            "Epoch 16/30\n",
            "1875/1875 [==============================] - 3s 1ms/step - loss: 0.2282 - accuracy: 0.9341\n",
            "Epoch 17/30\n",
            "1875/1875 [==============================] - 2s 1ms/step - loss: 0.2217 - accuracy: 0.9356\n",
            "Epoch 18/30\n",
            "1875/1875 [==============================] - 2s 1ms/step - loss: 0.2155 - accuracy: 0.9382\n",
            "Epoch 19/30\n",
            "1875/1875 [==============================] - 2s 1ms/step - loss: 0.2093 - accuracy: 0.9399\n",
            "Epoch 20/30\n",
            "1875/1875 [==============================] - 2s 1ms/step - loss: 0.2035 - accuracy: 0.9413\n",
            "Epoch 21/30\n",
            "1875/1875 [==============================] - 2s 1ms/step - loss: 0.1978 - accuracy: 0.9434\n",
            "Epoch 22/30\n",
            "1875/1875 [==============================] - 3s 1ms/step - loss: 0.1922 - accuracy: 0.9453\n",
            "Epoch 23/30\n",
            "1875/1875 [==============================] - 2s 1ms/step - loss: 0.1871 - accuracy: 0.9467\n",
            "Epoch 24/30\n",
            "1875/1875 [==============================] - 2s 1ms/step - loss: 0.1820 - accuracy: 0.9483\n",
            "Epoch 25/30\n",
            "1875/1875 [==============================] - 2s 1ms/step - loss: 0.1770 - accuracy: 0.9497\n",
            "Epoch 26/30\n",
            "1875/1875 [==============================] - 2s 1ms/step - loss: 0.1729 - accuracy: 0.9505\n",
            "Epoch 27/30\n",
            "1875/1875 [==============================] - 2s 1ms/step - loss: 0.1676 - accuracy: 0.9520\n",
            "Epoch 28/30\n",
            "1875/1875 [==============================] - 2s 1ms/step - loss: 0.1638 - accuracy: 0.9534\n",
            "Epoch 29/30\n",
            "1875/1875 [==============================] - 2s 1ms/step - loss: 0.1598 - accuracy: 0.9546\n",
            "Epoch 30/30\n",
            "1875/1875 [==============================] - 2s 1ms/step - loss: 0.1559 - accuracy: 0.9554\n"
          ]
        },
        {
          "output_type": "execute_result",
          "data": {
            "text/plain": [
              "<keras.callbacks.History at 0x7fb1f7972650>"
            ]
          },
          "metadata": {},
          "execution_count": 60
        }
      ]
    },
    {
      "cell_type": "code",
      "metadata": {
        "colab": {
          "base_uri": "https://localhost:8080/"
        },
        "id": "zBfNwzN0WcED",
        "outputId": "e3ec43d9-3fbb-47d2-b3c6-7c569ad136c9"
      },
      "source": [
        "model.evaluate(xtest_flat, ytest)"
      ],
      "execution_count": 66,
      "outputs": [
        {
          "output_type": "stream",
          "name": "stdout",
          "text": [
            "313/313 [==============================] - 0s 1ms/step - loss: 0.1611 - accuracy: 0.9518\n"
          ]
        },
        {
          "output_type": "execute_result",
          "data": {
            "text/plain": [
              "[0.16109098494052887, 0.9517999887466431]"
            ]
          },
          "metadata": {},
          "execution_count": 66
        }
      ]
    },
    {
      "cell_type": "code",
      "metadata": {
        "id": "zCcMb_4XXXag"
      },
      "source": [
        ""
      ],
      "execution_count": null,
      "outputs": []
    }
  ]
}