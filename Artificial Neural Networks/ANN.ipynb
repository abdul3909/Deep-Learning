{
  "nbformat": 4,
  "nbformat_minor": 0,
  "metadata": {
    "colab": {
      "name": "ANN.ipynb",
      "provenance": [],
      "collapsed_sections": [],
      "authorship_tag": "ABX9TyOuP4O2E32ooIjSIMJ59CG3",
      "include_colab_link": true
    },
    "kernelspec": {
      "name": "python3",
      "display_name": "Python 3"
    },
    "language_info": {
      "name": "python"
    }
  },
  "cells": [
    {
      "cell_type": "markdown",
      "metadata": {
        "id": "view-in-github",
        "colab_type": "text"
      },
      "source": [
        "<a href=\"https://colab.research.google.com/github/abdul3909/Deep-Learning/blob/main/Artificial%20Neural%20Networks/ANN.ipynb\" target=\"_parent\"><img src=\"https://colab.research.google.com/assets/colab-badge.svg\" alt=\"Open In Colab\"/></a>"
      ]
    },
    {
      "cell_type": "code",
      "execution_count": 19,
      "metadata": {
        "id": "IbwopTeOfyAf"
      },
      "outputs": [],
      "source": [
        "import numpy as np\n",
        "import pandas as pd\n",
        "import tensorflow as tf"
      ]
    },
    {
      "cell_type": "code",
      "source": [
        "tf.__version__"
      ],
      "metadata": {
        "colab": {
          "base_uri": "https://localhost:8080/",
          "height": 35
        },
        "id": "tyU67AIjgzqh",
        "outputId": "8f3d3eee-6752-4965-f1e5-d5413abb4293"
      },
      "execution_count": 20,
      "outputs": [
        {
          "output_type": "execute_result",
          "data": {
            "text/plain": [
              "'2.8.0'"
            ],
            "application/vnd.google.colaboratory.intrinsic+json": {
              "type": "string"
            }
          },
          "metadata": {},
          "execution_count": 20
        }
      ]
    },
    {
      "cell_type": "markdown",
      "source": [
        "## Data preprocessing\n",
        "### Importing Dataset"
      ],
      "metadata": {
        "id": "4Ru_UXkqvFbP"
      }
    },
    {
      "cell_type": "code",
      "source": [
        "df = pd.read_csv(\"Churn_Modelling.csv\")\n",
        "df.head()"
      ],
      "metadata": {
        "colab": {
          "base_uri": "https://localhost:8080/",
          "height": 206
        },
        "id": "Nu7quJ0auh6N",
        "outputId": "1f4caa15-7a51-40f2-a008-15b18eb841e1"
      },
      "execution_count": 21,
      "outputs": [
        {
          "output_type": "execute_result",
          "data": {
            "text/plain": [
              "   RowNumber  CustomerId   Surname  CreditScore Geography  Gender  Age  \\\n",
              "0          1    15634602  Hargrave          619    France  Female   42   \n",
              "1          2    15647311      Hill          608     Spain  Female   41   \n",
              "2          3    15619304      Onio          502    France  Female   42   \n",
              "3          4    15701354      Boni          699    France  Female   39   \n",
              "4          5    15737888  Mitchell          850     Spain  Female   43   \n",
              "\n",
              "   Tenure    Balance  NumOfProducts  HasCrCard  IsActiveMember  \\\n",
              "0       2       0.00              1          1               1   \n",
              "1       1   83807.86              1          0               1   \n",
              "2       8  159660.80              3          1               0   \n",
              "3       1       0.00              2          0               0   \n",
              "4       2  125510.82              1          1               1   \n",
              "\n",
              "   EstimatedSalary  Exited  \n",
              "0        101348.88       1  \n",
              "1        112542.58       0  \n",
              "2        113931.57       1  \n",
              "3         93826.63       0  \n",
              "4         79084.10       0  "
            ],
            "text/html": [
              "\n",
              "  <div id=\"df-8e1291c4-d232-41cf-afe6-d8ae63cbe386\">\n",
              "    <div class=\"colab-df-container\">\n",
              "      <div>\n",
              "<style scoped>\n",
              "    .dataframe tbody tr th:only-of-type {\n",
              "        vertical-align: middle;\n",
              "    }\n",
              "\n",
              "    .dataframe tbody tr th {\n",
              "        vertical-align: top;\n",
              "    }\n",
              "\n",
              "    .dataframe thead th {\n",
              "        text-align: right;\n",
              "    }\n",
              "</style>\n",
              "<table border=\"1\" class=\"dataframe\">\n",
              "  <thead>\n",
              "    <tr style=\"text-align: right;\">\n",
              "      <th></th>\n",
              "      <th>RowNumber</th>\n",
              "      <th>CustomerId</th>\n",
              "      <th>Surname</th>\n",
              "      <th>CreditScore</th>\n",
              "      <th>Geography</th>\n",
              "      <th>Gender</th>\n",
              "      <th>Age</th>\n",
              "      <th>Tenure</th>\n",
              "      <th>Balance</th>\n",
              "      <th>NumOfProducts</th>\n",
              "      <th>HasCrCard</th>\n",
              "      <th>IsActiveMember</th>\n",
              "      <th>EstimatedSalary</th>\n",
              "      <th>Exited</th>\n",
              "    </tr>\n",
              "  </thead>\n",
              "  <tbody>\n",
              "    <tr>\n",
              "      <th>0</th>\n",
              "      <td>1</td>\n",
              "      <td>15634602</td>\n",
              "      <td>Hargrave</td>\n",
              "      <td>619</td>\n",
              "      <td>France</td>\n",
              "      <td>Female</td>\n",
              "      <td>42</td>\n",
              "      <td>2</td>\n",
              "      <td>0.00</td>\n",
              "      <td>1</td>\n",
              "      <td>1</td>\n",
              "      <td>1</td>\n",
              "      <td>101348.88</td>\n",
              "      <td>1</td>\n",
              "    </tr>\n",
              "    <tr>\n",
              "      <th>1</th>\n",
              "      <td>2</td>\n",
              "      <td>15647311</td>\n",
              "      <td>Hill</td>\n",
              "      <td>608</td>\n",
              "      <td>Spain</td>\n",
              "      <td>Female</td>\n",
              "      <td>41</td>\n",
              "      <td>1</td>\n",
              "      <td>83807.86</td>\n",
              "      <td>1</td>\n",
              "      <td>0</td>\n",
              "      <td>1</td>\n",
              "      <td>112542.58</td>\n",
              "      <td>0</td>\n",
              "    </tr>\n",
              "    <tr>\n",
              "      <th>2</th>\n",
              "      <td>3</td>\n",
              "      <td>15619304</td>\n",
              "      <td>Onio</td>\n",
              "      <td>502</td>\n",
              "      <td>France</td>\n",
              "      <td>Female</td>\n",
              "      <td>42</td>\n",
              "      <td>8</td>\n",
              "      <td>159660.80</td>\n",
              "      <td>3</td>\n",
              "      <td>1</td>\n",
              "      <td>0</td>\n",
              "      <td>113931.57</td>\n",
              "      <td>1</td>\n",
              "    </tr>\n",
              "    <tr>\n",
              "      <th>3</th>\n",
              "      <td>4</td>\n",
              "      <td>15701354</td>\n",
              "      <td>Boni</td>\n",
              "      <td>699</td>\n",
              "      <td>France</td>\n",
              "      <td>Female</td>\n",
              "      <td>39</td>\n",
              "      <td>1</td>\n",
              "      <td>0.00</td>\n",
              "      <td>2</td>\n",
              "      <td>0</td>\n",
              "      <td>0</td>\n",
              "      <td>93826.63</td>\n",
              "      <td>0</td>\n",
              "    </tr>\n",
              "    <tr>\n",
              "      <th>4</th>\n",
              "      <td>5</td>\n",
              "      <td>15737888</td>\n",
              "      <td>Mitchell</td>\n",
              "      <td>850</td>\n",
              "      <td>Spain</td>\n",
              "      <td>Female</td>\n",
              "      <td>43</td>\n",
              "      <td>2</td>\n",
              "      <td>125510.82</td>\n",
              "      <td>1</td>\n",
              "      <td>1</td>\n",
              "      <td>1</td>\n",
              "      <td>79084.10</td>\n",
              "      <td>0</td>\n",
              "    </tr>\n",
              "  </tbody>\n",
              "</table>\n",
              "</div>\n",
              "      <button class=\"colab-df-convert\" onclick=\"convertToInteractive('df-8e1291c4-d232-41cf-afe6-d8ae63cbe386')\"\n",
              "              title=\"Convert this dataframe to an interactive table.\"\n",
              "              style=\"display:none;\">\n",
              "        \n",
              "  <svg xmlns=\"http://www.w3.org/2000/svg\" height=\"24px\"viewBox=\"0 0 24 24\"\n",
              "       width=\"24px\">\n",
              "    <path d=\"M0 0h24v24H0V0z\" fill=\"none\"/>\n",
              "    <path d=\"M18.56 5.44l.94 2.06.94-2.06 2.06-.94-2.06-.94-.94-2.06-.94 2.06-2.06.94zm-11 1L8.5 8.5l.94-2.06 2.06-.94-2.06-.94L8.5 2.5l-.94 2.06-2.06.94zm10 10l.94 2.06.94-2.06 2.06-.94-2.06-.94-.94-2.06-.94 2.06-2.06.94z\"/><path d=\"M17.41 7.96l-1.37-1.37c-.4-.4-.92-.59-1.43-.59-.52 0-1.04.2-1.43.59L10.3 9.45l-7.72 7.72c-.78.78-.78 2.05 0 2.83L4 21.41c.39.39.9.59 1.41.59.51 0 1.02-.2 1.41-.59l7.78-7.78 2.81-2.81c.8-.78.8-2.07 0-2.86zM5.41 20L4 18.59l7.72-7.72 1.47 1.35L5.41 20z\"/>\n",
              "  </svg>\n",
              "      </button>\n",
              "      \n",
              "  <style>\n",
              "    .colab-df-container {\n",
              "      display:flex;\n",
              "      flex-wrap:wrap;\n",
              "      gap: 12px;\n",
              "    }\n",
              "\n",
              "    .colab-df-convert {\n",
              "      background-color: #E8F0FE;\n",
              "      border: none;\n",
              "      border-radius: 50%;\n",
              "      cursor: pointer;\n",
              "      display: none;\n",
              "      fill: #1967D2;\n",
              "      height: 32px;\n",
              "      padding: 0 0 0 0;\n",
              "      width: 32px;\n",
              "    }\n",
              "\n",
              "    .colab-df-convert:hover {\n",
              "      background-color: #E2EBFA;\n",
              "      box-shadow: 0px 1px 2px rgba(60, 64, 67, 0.3), 0px 1px 3px 1px rgba(60, 64, 67, 0.15);\n",
              "      fill: #174EA6;\n",
              "    }\n",
              "\n",
              "    [theme=dark] .colab-df-convert {\n",
              "      background-color: #3B4455;\n",
              "      fill: #D2E3FC;\n",
              "    }\n",
              "\n",
              "    [theme=dark] .colab-df-convert:hover {\n",
              "      background-color: #434B5C;\n",
              "      box-shadow: 0px 1px 3px 1px rgba(0, 0, 0, 0.15);\n",
              "      filter: drop-shadow(0px 1px 2px rgba(0, 0, 0, 0.3));\n",
              "      fill: #FFFFFF;\n",
              "    }\n",
              "  </style>\n",
              "\n",
              "      <script>\n",
              "        const buttonEl =\n",
              "          document.querySelector('#df-8e1291c4-d232-41cf-afe6-d8ae63cbe386 button.colab-df-convert');\n",
              "        buttonEl.style.display =\n",
              "          google.colab.kernel.accessAllowed ? 'block' : 'none';\n",
              "\n",
              "        async function convertToInteractive(key) {\n",
              "          const element = document.querySelector('#df-8e1291c4-d232-41cf-afe6-d8ae63cbe386');\n",
              "          const dataTable =\n",
              "            await google.colab.kernel.invokeFunction('convertToInteractive',\n",
              "                                                     [key], {});\n",
              "          if (!dataTable) return;\n",
              "\n",
              "          const docLinkHtml = 'Like what you see? Visit the ' +\n",
              "            '<a target=\"_blank\" href=https://colab.research.google.com/notebooks/data_table.ipynb>data table notebook</a>'\n",
              "            + ' to learn more about interactive tables.';\n",
              "          element.innerHTML = '';\n",
              "          dataTable['output_type'] = 'display_data';\n",
              "          await google.colab.output.renderOutput(dataTable, element);\n",
              "          const docLink = document.createElement('div');\n",
              "          docLink.innerHTML = docLinkHtml;\n",
              "          element.appendChild(docLink);\n",
              "        }\n",
              "      </script>\n",
              "    </div>\n",
              "  </div>\n",
              "  "
            ]
          },
          "metadata": {},
          "execution_count": 21
        }
      ]
    },
    {
      "cell_type": "code",
      "source": [
        "x = df.drop(['Exited', 'RowNumber', 'CustomerId', 'Surname'], axis='columns')\n",
        "y = df.Exited"
      ],
      "metadata": {
        "id": "ILobQvlSvmLt"
      },
      "execution_count": 22,
      "outputs": []
    },
    {
      "cell_type": "code",
      "source": [
        "df.isnull().sum()"
      ],
      "metadata": {
        "colab": {
          "base_uri": "https://localhost:8080/"
        },
        "id": "O_iJx2Rwvwzj",
        "outputId": "4db4bcfd-d2ec-4156-8604-8176f5c422a7"
      },
      "execution_count": 23,
      "outputs": [
        {
          "output_type": "execute_result",
          "data": {
            "text/plain": [
              "RowNumber          0\n",
              "CustomerId         0\n",
              "Surname            0\n",
              "CreditScore        0\n",
              "Geography          0\n",
              "Gender             0\n",
              "Age                0\n",
              "Tenure             0\n",
              "Balance            0\n",
              "NumOfProducts      0\n",
              "HasCrCard          0\n",
              "IsActiveMember     0\n",
              "EstimatedSalary    0\n",
              "Exited             0\n",
              "dtype: int64"
            ]
          },
          "metadata": {},
          "execution_count": 23
        }
      ]
    },
    {
      "cell_type": "markdown",
      "source": [
        "## Encoding Categorical Data\n",
        "\n",
        "### Using Label Encoder for \"Gender\" column"
      ],
      "metadata": {
        "id": "h5oTyY-j3oUg"
      }
    },
    {
      "cell_type": "code",
      "source": [
        "from sklearn.preprocessing import LabelEncoder\n",
        "le  = LabelEncoder()\n",
        "x['Gender'] = le.fit_transform(x['Gender'])"
      ],
      "metadata": {
        "id": "h9B98WaMwW5K"
      },
      "execution_count": 24,
      "outputs": []
    },
    {
      "cell_type": "markdown",
      "source": [
        "## Using One hot Encoder for \"Geography\" column"
      ],
      "metadata": {
        "id": "Ve41QTrw6bab"
      }
    },
    {
      "cell_type": "code",
      "source": [
        "from sklearn.preprocessing import OneHotEncoder\n",
        "from sklearn.compose import ColumnTransformer\n",
        "ct = ColumnTransformer(transformers=[('encoder', OneHotEncoder(), [1])], remainder='passthrough')\n",
        "x = np.array(ct.fit_transform(x))"
      ],
      "metadata": {
        "id": "xWArH2Vp4Dud"
      },
      "execution_count": 25,
      "outputs": []
    },
    {
      "cell_type": "markdown",
      "source": [
        "## Splitting data to training and test set"
      ],
      "metadata": {
        "id": "JhTWRGqkB4N9"
      }
    },
    {
      "cell_type": "code",
      "source": [
        "from sklearn.model_selection import train_test_split\n",
        "X_train, X_test, y_train, y_test = train_test_split(x, y, train_size=0.8, random_state=0)"
      ],
      "metadata": {
        "id": "8SFKbw2N4Q8s"
      },
      "execution_count": 26,
      "outputs": []
    },
    {
      "cell_type": "markdown",
      "source": [
        "### Feature Scaling"
      ],
      "metadata": {
        "id": "FwWDe6kECgRE"
      }
    },
    {
      "cell_type": "code",
      "source": [
        "from sklearn.preprocessing import StandardScaler\n",
        "sc = StandardScaler()\n",
        "X_train = sc.fit_transform(X_train)\n",
        "X_test = sc.transform(X_test)"
      ],
      "metadata": {
        "id": "x-tphDYM8BhW"
      },
      "execution_count": 27,
      "outputs": []
    },
    {
      "cell_type": "markdown",
      "source": [
        "## Building the ANN\n",
        "### Initializing the ANN"
      ],
      "metadata": {
        "id": "f59Nl7v3PNgu"
      }
    },
    {
      "cell_type": "code",
      "source": [
        "ann = tf.keras.models.Sequential()"
      ],
      "metadata": {
        "id": "LKZkPQCKDQ-z"
      },
      "execution_count": 28,
      "outputs": []
    },
    {
      "cell_type": "markdown",
      "source": [
        "### Adding the input layer and the first hidden layer"
      ],
      "metadata": {
        "id": "NajvjeRePoEO"
      }
    },
    {
      "cell_type": "code",
      "source": [
        "ann.add(tf.keras.layers.Dense(units=6, activation='relu'))"
      ],
      "metadata": {
        "id": "w1tIhMEBPm4d"
      },
      "execution_count": 29,
      "outputs": []
    },
    {
      "cell_type": "markdown",
      "source": [
        "### Adding second hidden layer"
      ],
      "metadata": {
        "id": "i3DoZCjrQIb9"
      }
    },
    {
      "cell_type": "code",
      "source": [
        "ann.add(tf.keras.layers.Dense(units=6, activation='relu'))"
      ],
      "metadata": {
        "id": "2KMNsfQoQHCL"
      },
      "execution_count": 30,
      "outputs": []
    },
    {
      "cell_type": "markdown",
      "source": [
        "### Adding output layer"
      ],
      "metadata": {
        "id": "nHcMPuf-Qf1D"
      }
    },
    {
      "cell_type": "code",
      "source": [
        "ann.add(tf.keras.layers.Dense(units=1, activation='sigmoid'))"
      ],
      "metadata": {
        "id": "KrSkz80aQcNh"
      },
      "execution_count": 31,
      "outputs": []
    },
    {
      "cell_type": "markdown",
      "source": [
        "## Training the ANN\n",
        "### Compiling ANN"
      ],
      "metadata": {
        "id": "r42W_nCwHcZa"
      }
    },
    {
      "cell_type": "code",
      "source": [
        "ann.compile(optimizer = 'adam', loss = 'binary_crossentropy', metrics = ['accuracy'])"
      ],
      "metadata": {
        "id": "lvj_a2vFUYty"
      },
      "execution_count": 32,
      "outputs": []
    },
    {
      "cell_type": "markdown",
      "source": [
        "### Training ANN"
      ],
      "metadata": {
        "id": "5MyohEl1IOq5"
      }
    },
    {
      "cell_type": "code",
      "source": [
        "ann.fit(X_train, y_train, batch_size = 24, epochs = 100)"
      ],
      "metadata": {
        "colab": {
          "base_uri": "https://localhost:8080/"
        },
        "id": "b7Zw2KKHII8o",
        "outputId": "4818a471-99bc-444a-adde-710490e7ab84"
      },
      "execution_count": 33,
      "outputs": [
        {
          "output_type": "stream",
          "name": "stdout",
          "text": [
            "Epoch 1/100\n",
            "334/334 [==============================] - 1s 2ms/step - loss: 0.6769 - accuracy: 0.6054\n",
            "Epoch 2/100\n",
            "334/334 [==============================] - 1s 2ms/step - loss: 0.4771 - accuracy: 0.7966\n",
            "Epoch 3/100\n",
            "334/334 [==============================] - 1s 2ms/step - loss: 0.4373 - accuracy: 0.8021\n",
            "Epoch 4/100\n",
            "334/334 [==============================] - 1s 2ms/step - loss: 0.4133 - accuracy: 0.8151\n",
            "Epoch 5/100\n",
            "334/334 [==============================] - 1s 2ms/step - loss: 0.3951 - accuracy: 0.8269\n",
            "Epoch 6/100\n",
            "334/334 [==============================] - 1s 2ms/step - loss: 0.3808 - accuracy: 0.8384\n",
            "Epoch 7/100\n",
            "334/334 [==============================] - 1s 2ms/step - loss: 0.3720 - accuracy: 0.8414\n",
            "Epoch 8/100\n",
            "334/334 [==============================] - 1s 2ms/step - loss: 0.3664 - accuracy: 0.8434\n",
            "Epoch 9/100\n",
            "334/334 [==============================] - 1s 2ms/step - loss: 0.3613 - accuracy: 0.8481\n",
            "Epoch 10/100\n",
            "334/334 [==============================] - 1s 2ms/step - loss: 0.3577 - accuracy: 0.8486\n",
            "Epoch 11/100\n",
            "334/334 [==============================] - 1s 2ms/step - loss: 0.3545 - accuracy: 0.8501\n",
            "Epoch 12/100\n",
            "334/334 [==============================] - 1s 2ms/step - loss: 0.3525 - accuracy: 0.8535\n",
            "Epoch 13/100\n",
            "334/334 [==============================] - 1s 2ms/step - loss: 0.3504 - accuracy: 0.8541\n",
            "Epoch 14/100\n",
            "334/334 [==============================] - 1s 2ms/step - loss: 0.3495 - accuracy: 0.8553\n",
            "Epoch 15/100\n",
            "334/334 [==============================] - 1s 3ms/step - loss: 0.3479 - accuracy: 0.8559\n",
            "Epoch 16/100\n",
            "334/334 [==============================] - 1s 2ms/step - loss: 0.3467 - accuracy: 0.8561\n",
            "Epoch 17/100\n",
            "334/334 [==============================] - 1s 2ms/step - loss: 0.3457 - accuracy: 0.8579\n",
            "Epoch 18/100\n",
            "334/334 [==============================] - 1s 2ms/step - loss: 0.3452 - accuracy: 0.8577\n",
            "Epoch 19/100\n",
            "334/334 [==============================] - 1s 2ms/step - loss: 0.3443 - accuracy: 0.8590\n",
            "Epoch 20/100\n",
            "334/334 [==============================] - 1s 2ms/step - loss: 0.3438 - accuracy: 0.8599\n",
            "Epoch 21/100\n",
            "334/334 [==============================] - 1s 2ms/step - loss: 0.3431 - accuracy: 0.8593\n",
            "Epoch 22/100\n",
            "334/334 [==============================] - 1s 2ms/step - loss: 0.3429 - accuracy: 0.8606\n",
            "Epoch 23/100\n",
            "334/334 [==============================] - 1s 2ms/step - loss: 0.3426 - accuracy: 0.8610\n",
            "Epoch 24/100\n",
            "334/334 [==============================] - 1s 2ms/step - loss: 0.3422 - accuracy: 0.8594\n",
            "Epoch 25/100\n",
            "334/334 [==============================] - 1s 2ms/step - loss: 0.3412 - accuracy: 0.8605\n",
            "Epoch 26/100\n",
            "334/334 [==============================] - 1s 2ms/step - loss: 0.3409 - accuracy: 0.8586\n",
            "Epoch 27/100\n",
            "334/334 [==============================] - 1s 2ms/step - loss: 0.3407 - accuracy: 0.8610\n",
            "Epoch 28/100\n",
            "334/334 [==============================] - 1s 2ms/step - loss: 0.3403 - accuracy: 0.8606\n",
            "Epoch 29/100\n",
            "334/334 [==============================] - 1s 2ms/step - loss: 0.3402 - accuracy: 0.8597\n",
            "Epoch 30/100\n",
            "334/334 [==============================] - 1s 2ms/step - loss: 0.3397 - accuracy: 0.8600\n",
            "Epoch 31/100\n",
            "334/334 [==============================] - 1s 2ms/step - loss: 0.3391 - accuracy: 0.8600\n",
            "Epoch 32/100\n",
            "334/334 [==============================] - 1s 2ms/step - loss: 0.3393 - accuracy: 0.8615\n",
            "Epoch 33/100\n",
            "334/334 [==============================] - 1s 2ms/step - loss: 0.3391 - accuracy: 0.8595\n",
            "Epoch 34/100\n",
            "334/334 [==============================] - 1s 2ms/step - loss: 0.3386 - accuracy: 0.8596\n",
            "Epoch 35/100\n",
            "334/334 [==============================] - 1s 2ms/step - loss: 0.3381 - accuracy: 0.8591\n",
            "Epoch 36/100\n",
            "334/334 [==============================] - 1s 2ms/step - loss: 0.3380 - accuracy: 0.8611\n",
            "Epoch 37/100\n",
            "334/334 [==============================] - 1s 2ms/step - loss: 0.3377 - accuracy: 0.8601\n",
            "Epoch 38/100\n",
            "334/334 [==============================] - 1s 2ms/step - loss: 0.3373 - accuracy: 0.8595\n",
            "Epoch 39/100\n",
            "334/334 [==============================] - 1s 2ms/step - loss: 0.3374 - accuracy: 0.8606\n",
            "Epoch 40/100\n",
            "334/334 [==============================] - 1s 2ms/step - loss: 0.3369 - accuracy: 0.8596\n",
            "Epoch 41/100\n",
            "334/334 [==============================] - 1s 2ms/step - loss: 0.3369 - accuracy: 0.8606\n",
            "Epoch 42/100\n",
            "334/334 [==============================] - 1s 2ms/step - loss: 0.3371 - accuracy: 0.8600\n",
            "Epoch 43/100\n",
            "334/334 [==============================] - 1s 2ms/step - loss: 0.3367 - accuracy: 0.8609\n",
            "Epoch 44/100\n",
            "334/334 [==============================] - 1s 2ms/step - loss: 0.3370 - accuracy: 0.8591\n",
            "Epoch 45/100\n",
            "334/334 [==============================] - 1s 2ms/step - loss: 0.3362 - accuracy: 0.8602\n",
            "Epoch 46/100\n",
            "334/334 [==============================] - 1s 2ms/step - loss: 0.3360 - accuracy: 0.8611\n",
            "Epoch 47/100\n",
            "334/334 [==============================] - 1s 2ms/step - loss: 0.3357 - accuracy: 0.8610\n",
            "Epoch 48/100\n",
            "334/334 [==============================] - 1s 2ms/step - loss: 0.3359 - accuracy: 0.8620\n",
            "Epoch 49/100\n",
            "334/334 [==============================] - 1s 2ms/step - loss: 0.3356 - accuracy: 0.8610\n",
            "Epoch 50/100\n",
            "334/334 [==============================] - 1s 2ms/step - loss: 0.3354 - accuracy: 0.8616\n",
            "Epoch 51/100\n",
            "334/334 [==============================] - 1s 2ms/step - loss: 0.3356 - accuracy: 0.8635\n",
            "Epoch 52/100\n",
            "334/334 [==============================] - 1s 2ms/step - loss: 0.3351 - accuracy: 0.8626\n",
            "Epoch 53/100\n",
            "334/334 [==============================] - 1s 2ms/step - loss: 0.3351 - accuracy: 0.8612\n",
            "Epoch 54/100\n",
            "334/334 [==============================] - 1s 2ms/step - loss: 0.3350 - accuracy: 0.8612\n",
            "Epoch 55/100\n",
            "334/334 [==============================] - 1s 2ms/step - loss: 0.3348 - accuracy: 0.8606\n",
            "Epoch 56/100\n",
            "334/334 [==============================] - 1s 2ms/step - loss: 0.3349 - accuracy: 0.8602\n",
            "Epoch 57/100\n",
            "334/334 [==============================] - 1s 2ms/step - loss: 0.3340 - accuracy: 0.8622\n",
            "Epoch 58/100\n",
            "334/334 [==============================] - 1s 2ms/step - loss: 0.3346 - accuracy: 0.8621\n",
            "Epoch 59/100\n",
            "334/334 [==============================] - 1s 2ms/step - loss: 0.3344 - accuracy: 0.8618\n",
            "Epoch 60/100\n",
            "334/334 [==============================] - 1s 2ms/step - loss: 0.3345 - accuracy: 0.8631\n",
            "Epoch 61/100\n",
            "334/334 [==============================] - 1s 2ms/step - loss: 0.3343 - accuracy: 0.8610\n",
            "Epoch 62/100\n",
            "334/334 [==============================] - 1s 2ms/step - loss: 0.3339 - accuracy: 0.8615\n",
            "Epoch 63/100\n",
            "334/334 [==============================] - 1s 2ms/step - loss: 0.3339 - accuracy: 0.8622\n",
            "Epoch 64/100\n",
            "334/334 [==============================] - 1s 2ms/step - loss: 0.3341 - accuracy: 0.8610\n",
            "Epoch 65/100\n",
            "334/334 [==============================] - 1s 2ms/step - loss: 0.3338 - accuracy: 0.8616\n",
            "Epoch 66/100\n",
            "334/334 [==============================] - 1s 2ms/step - loss: 0.3340 - accuracy: 0.8621\n",
            "Epoch 67/100\n",
            "334/334 [==============================] - 1s 2ms/step - loss: 0.3336 - accuracy: 0.8624\n",
            "Epoch 68/100\n",
            "334/334 [==============================] - 1s 2ms/step - loss: 0.3334 - accuracy: 0.8619\n",
            "Epoch 69/100\n",
            "334/334 [==============================] - 1s 2ms/step - loss: 0.3338 - accuracy: 0.8614\n",
            "Epoch 70/100\n",
            "334/334 [==============================] - 1s 2ms/step - loss: 0.3332 - accuracy: 0.8624\n",
            "Epoch 71/100\n",
            "334/334 [==============================] - 1s 2ms/step - loss: 0.3332 - accuracy: 0.8618\n",
            "Epoch 72/100\n",
            "334/334 [==============================] - 1s 2ms/step - loss: 0.3335 - accuracy: 0.8629\n",
            "Epoch 73/100\n",
            "334/334 [==============================] - 1s 2ms/step - loss: 0.3334 - accuracy: 0.8625\n",
            "Epoch 74/100\n",
            "334/334 [==============================] - 1s 2ms/step - loss: 0.3329 - accuracy: 0.8625\n",
            "Epoch 75/100\n",
            "334/334 [==============================] - 1s 2ms/step - loss: 0.3330 - accuracy: 0.8624\n",
            "Epoch 76/100\n",
            "334/334 [==============================] - 1s 2ms/step - loss: 0.3335 - accuracy: 0.8622\n",
            "Epoch 77/100\n",
            "334/334 [==============================] - 1s 2ms/step - loss: 0.3327 - accuracy: 0.8633\n",
            "Epoch 78/100\n",
            "334/334 [==============================] - 1s 2ms/step - loss: 0.3326 - accuracy: 0.8636\n",
            "Epoch 79/100\n",
            "334/334 [==============================] - 1s 2ms/step - loss: 0.3324 - accuracy: 0.8631\n",
            "Epoch 80/100\n",
            "334/334 [==============================] - 1s 2ms/step - loss: 0.3331 - accuracy: 0.8619\n",
            "Epoch 81/100\n",
            "334/334 [==============================] - 1s 2ms/step - loss: 0.3325 - accuracy: 0.8640\n",
            "Epoch 82/100\n",
            "334/334 [==============================] - 1s 2ms/step - loss: 0.3327 - accuracy: 0.8631\n",
            "Epoch 83/100\n",
            "334/334 [==============================] - 1s 2ms/step - loss: 0.3327 - accuracy: 0.8611\n",
            "Epoch 84/100\n",
            "334/334 [==============================] - 1s 2ms/step - loss: 0.3321 - accuracy: 0.8629\n",
            "Epoch 85/100\n",
            "334/334 [==============================] - 1s 2ms/step - loss: 0.3322 - accuracy: 0.8640\n",
            "Epoch 86/100\n",
            "334/334 [==============================] - 1s 2ms/step - loss: 0.3319 - accuracy: 0.8648\n",
            "Epoch 87/100\n",
            "334/334 [==============================] - 1s 2ms/step - loss: 0.3322 - accuracy: 0.8627\n",
            "Epoch 88/100\n",
            "334/334 [==============================] - 1s 2ms/step - loss: 0.3323 - accuracy: 0.8616\n",
            "Epoch 89/100\n",
            "334/334 [==============================] - 1s 2ms/step - loss: 0.3315 - accuracy: 0.8633\n",
            "Epoch 90/100\n",
            "334/334 [==============================] - 1s 2ms/step - loss: 0.3315 - accuracy: 0.8610\n",
            "Epoch 91/100\n",
            "334/334 [==============================] - 1s 2ms/step - loss: 0.3320 - accuracy: 0.8615\n",
            "Epoch 92/100\n",
            "334/334 [==============================] - 1s 2ms/step - loss: 0.3317 - accuracy: 0.8631\n",
            "Epoch 93/100\n",
            "334/334 [==============================] - 1s 2ms/step - loss: 0.3316 - accuracy: 0.8635\n",
            "Epoch 94/100\n",
            "334/334 [==============================] - 1s 2ms/step - loss: 0.3312 - accuracy: 0.8643\n",
            "Epoch 95/100\n",
            "334/334 [==============================] - 1s 2ms/step - loss: 0.3316 - accuracy: 0.8651\n",
            "Epoch 96/100\n",
            "334/334 [==============================] - 1s 2ms/step - loss: 0.3313 - accuracy: 0.8654\n",
            "Epoch 97/100\n",
            "334/334 [==============================] - 1s 2ms/step - loss: 0.3308 - accuracy: 0.8656\n",
            "Epoch 98/100\n",
            "334/334 [==============================] - 1s 2ms/step - loss: 0.3310 - accuracy: 0.8650\n",
            "Epoch 99/100\n",
            "334/334 [==============================] - 1s 2ms/step - loss: 0.3316 - accuracy: 0.8643\n",
            "Epoch 100/100\n",
            "334/334 [==============================] - 1s 2ms/step - loss: 0.3314 - accuracy: 0.8639\n"
          ]
        },
        {
          "output_type": "execute_result",
          "data": {
            "text/plain": [
              "<keras.callbacks.History at 0x7fc0a9988310>"
            ]
          },
          "metadata": {},
          "execution_count": 33
        }
      ]
    },
    {
      "cell_type": "markdown",
      "source": [
        "## Prdicticting single value"
      ],
      "metadata": {
        "id": "dMuKWqFpSMhB"
      }
    },
    {
      "cell_type": "code",
      "source": [
        "print(ann.predict(sc.transform([[1, 0, 0, 600, 1, 40, 3, 60000, 2, 1, 1, 50000]])) > 0.5)"
      ],
      "metadata": {
        "id": "IslMytppInVW",
        "colab": {
          "base_uri": "https://localhost:8080/"
        },
        "outputId": "932e52af-c73d-4f2b-b802-1e565f0ad302"
      },
      "execution_count": 34,
      "outputs": [
        {
          "output_type": "stream",
          "name": "stdout",
          "text": [
            "[[False]]\n"
          ]
        }
      ]
    },
    {
      "cell_type": "markdown",
      "source": [
        "### Printing test set results"
      ],
      "metadata": {
        "id": "dCQqqZPMS6cA"
      }
    },
    {
      "cell_type": "code",
      "source": [
        "y_pred = ann.predict(X_test)\n",
        "y_pred = (y_pred>0.5)"
      ],
      "metadata": {
        "id": "o7qwptPaS3xn"
      },
      "execution_count": 42,
      "outputs": []
    },
    {
      "cell_type": "markdown",
      "source": [
        "### Confusion matrix"
      ],
      "metadata": {
        "id": "YHk2zLMZaF5Y"
      }
    },
    {
      "cell_type": "code",
      "source": [
        "from sklearn.metrics import confusion_matrix, accuracy_score\n",
        "cm = confusion_matrix(y_test, y_pred)\n",
        "print(cm)\n",
        "accuracy_score(y_test, y_pred)"
      ],
      "metadata": {
        "colab": {
          "base_uri": "https://localhost:8080/"
        },
        "id": "tVOYymbCaFEZ",
        "outputId": "88f19b3e-4731-4ec7-9e9b-9ddcfb0e2cdd"
      },
      "execution_count": 43,
      "outputs": [
        {
          "output_type": "stream",
          "name": "stdout",
          "text": [
            "[[1516   79]\n",
            " [ 195  210]]\n"
          ]
        },
        {
          "output_type": "execute_result",
          "data": {
            "text/plain": [
              "0.863"
            ]
          },
          "metadata": {},
          "execution_count": 43
        }
      ]
    },
    {
      "cell_type": "code",
      "source": [
        ""
      ],
      "metadata": {
        "id": "jVYQMaCKanmu"
      },
      "execution_count": null,
      "outputs": []
    }
  ]
}